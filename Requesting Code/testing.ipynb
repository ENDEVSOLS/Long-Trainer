{
 "cells": [
  {
   "cell_type": "markdown",
   "source": [
    "# Requesting Code for the Chatbot"
   ],
   "metadata": {
    "collapsed": false
   },
   "id": "ac64adf0bd181736"
  },
  {
   "cell_type": "code",
   "execution_count": 211,
   "outputs": [],
   "source": [
    "import requests\n",
    "import json\n",
    "import os"
   ],
   "metadata": {
    "collapsed": false,
    "ExecuteTime": {
     "end_time": "2023-12-15T14:50:52.884789346Z",
     "start_time": "2023-12-15T14:50:52.840293414Z"
    }
   },
   "id": "cafebb37fef9e783"
  },
  {
   "cell_type": "code",
   "execution_count": 212,
   "outputs": [],
   "source": [
    "base_url = 'http://127.0.0.1:8000'\n",
    "def deploy_model(files, links):\n",
    "    url = f\"{base_url}/deploy_model/\"\n",
    "    file_data = []\n",
    "    for file_path in files:\n",
    "        file = open(file_path, 'rb')\n",
    "        file_data.append(('files', (file.name, file)))\n",
    "    form_data = {'links': links}\n",
    "    response = requests.post(url, files=file_data, data=form_data)\n",
    "   \n",
    "    return response.json()\n",
    "\n",
    "def vision_response(json_file_path, image_file_paths):\n",
    "\n",
    "    url = f\"{base_url}/vision_response/\"\n",
    "    \n",
    "    # Prepare the data for request\n",
    "    files = [\n",
    "        ('json_file', ('bot_data.json', open(json_file_path, 'rb'), 'application/json'))\n",
    "    ]\n",
    "    \n",
    "    # Add image files to the request if any\n",
    "    for file_path in image_file_paths:\n",
    "        file = open(file_path, 'rb')\n",
    "        files.append(('files', (os.path.basename(file_path), file, 'image/jpeg')))\n",
    "    \n",
    "    # Make the POST request\n",
    "    response = requests.post(url, files=files)\n",
    "    \n",
    "    # Print the response\n",
    "    print(response.json())\n",
    "\n",
    "\n",
    "def get_response(query, bot_id, chat_id):\n",
    "    url = f\"{base_url}/response/\"\n",
    "    data = {\n",
    "        'query': query, \n",
    "        'bot_id': bot_id, \n",
    "        'chat_id': chat_id\n",
    "    }\n",
    "    response = requests.post(url, json=data)  # Using the json parameter to ensure proper formatting\n",
    "    return response.json()\n",
    "\n",
    "def remove_model(bot_id):\n",
    "    url = f\"{base_url}/delete_model/\"\n",
    "    response = requests.delete(url, json={'bot_id': bot_id})\n",
    "    return response.json()\n",
    "\n",
    "\n",
    "def update_model(json_file_path, file_paths, links):\n",
    "    \n",
    "    url = f\"{base_url}/update_model/\"\n",
    "\n",
    "    # Prepare the data for request\n",
    "    files = [\n",
    "        ('json_file', (json_file_path, open(json_file_path, 'rb'), 'application/json'))\n",
    "    ]\n",
    "    \n",
    "    # Add image files to the request if any\n",
    "    for file_path in file_paths:\n",
    "        file = open(file_path, 'rb')\n",
    "        files.append(('files', (os.path.basename(file_path), file, 'image/jpeg')))\n",
    "    \n",
    "    # Convert links list to JSON string for form data\n",
    "    form_data = {'links': links}\n",
    "    \n",
    "    # Make the POST request\n",
    "    response = requests.post(url, files=files, data=form_data)\n",
    "    return response.json() \n"
   ],
   "metadata": {
    "collapsed": false,
    "ExecuteTime": {
     "end_time": "2023-12-15T14:50:55.396397662Z",
     "start_time": "2023-12-15T14:50:55.389782217Z"
    }
   },
   "id": "5b67c3474e401c82"
  },
  {
   "cell_type": "markdown",
   "source": [
    "# Deploy Model"
   ],
   "metadata": {
    "collapsed": false
   },
   "id": "f3b0848315a397eb"
  },
  {
   "cell_type": "code",
   "execution_count": 221,
   "outputs": [
    {
     "name": "stdout",
     "output_type": "stream",
     "text": [
      "{'bot_id': '3afabae3-4d8c-4d6c-8a86-79bc453068f4', 'chat_id': '9ad23498-c255-4d45-8e9d-6495903dbb5d', 'vision_chat_id': '600b25c7-b49f-44cf-af74-3a12a435fcd1'}\n"
     ]
    }
   ],
   "source": [
    "file_paths = ['/home/hasnain/Projects/downloads/claude.txt', '/home/hasnain/Downloads/Task 3.pdf']  # Replace with actual file paths\n",
    "links = ['https://python.langchain.com/docs/modules/memory/types/buffer_window', 'https://youtu.be/RBnuhhmD21U?si=YB2aTLwv93V_nWb7']\n",
    "response = deploy_model(file_paths, links)\n",
    "print(response)"
   ],
   "metadata": {
    "collapsed": false,
    "ExecuteTime": {
     "end_time": "2023-12-15T15:00:07.565223159Z",
     "start_time": "2023-12-15T14:59:26.308321250Z"
    }
   },
   "id": "737f65eacd1d4e1f"
  },
  {
   "cell_type": "code",
   "execution_count": 222,
   "outputs": [
    {
     "name": "stdout",
     "output_type": "stream",
     "text": [
      "3afabae3-4d8c-4d6c-8a86-79bc453068f4\n",
      "9ad23498-c255-4d45-8e9d-6495903dbb5d\n",
      "600b25c7-b49f-44cf-af74-3a12a435fcd1\n"
     ]
    }
   ],
   "source": [
    "bot_id = response.get('bot_id')\n",
    "chat_id = response.get('chat_id')\n",
    "vision_chat_id = response.get('vision_chat_id')\n",
    "print(bot_id)\n",
    "print(chat_id)\n",
    "print(vision_chat_id)"
   ],
   "metadata": {
    "collapsed": false,
    "ExecuteTime": {
     "end_time": "2023-12-15T15:00:07.565713011Z",
     "start_time": "2023-12-15T15:00:07.556577268Z"
    }
   },
   "id": "36579ad1f859cc17"
  },
  {
   "cell_type": "code",
   "execution_count": 223,
   "outputs": [],
   "source": [
    "# Data to be saved\n",
    "data = {\n",
    "    'bot_id': bot_id,\n",
    "}\n",
    "\n",
    "# Saving to a JSON file\n",
    "with open('update_bot_data.json', 'w') as file:\n",
    "    json.dump(data, file)\n"
   ],
   "metadata": {
    "collapsed": false,
    "ExecuteTime": {
     "end_time": "2023-12-15T15:00:07.627070076Z",
     "start_time": "2023-12-15T15:00:07.564086261Z"
    }
   },
   "id": "c5b25a6b1b959ff"
  },
  {
   "cell_type": "markdown",
   "source": [
    "# Text Response"
   ],
   "metadata": {
    "collapsed": false
   },
   "id": "c3e2236b8ec8ed97"
  },
  {
   "cell_type": "code",
   "execution_count": 224,
   "outputs": [
    {
     "name": "stdout",
     "output_type": "stream",
     "text": [
      "{'response': 'Hello! How can I assist you today?'}\n"
     ]
    }
   ],
   "source": [
    "query = 'hi'\n",
    "\n",
    "response = get_response( query, str(bot_id), str(chat_id))\n",
    "print(response)\n"
   ],
   "metadata": {
    "collapsed": false,
    "ExecuteTime": {
     "end_time": "2023-12-15T15:00:15.541116686Z",
     "start_time": "2023-12-15T15:00:10.995967914Z"
    }
   },
   "id": "bf650a381e53e572"
  },
  {
   "cell_type": "markdown",
   "source": [
    "# Generate Vision Response "
   ],
   "metadata": {
    "collapsed": false
   },
   "id": "c2025dd9210f6854"
  },
  {
   "cell_type": "code",
   "execution_count": 226,
   "outputs": [],
   "source": [
    "# Data to be saved\n",
    "data = {\n",
    "    'bot_id': bot_id,\n",
    "    'vision_chat_id': vision_chat_id,\n",
    "    'query': 'explain the image'\n",
    "}\n",
    "\n",
    "# Saving to a JSON file\n",
    "with open('bot_data.json', 'w') as file:\n",
    "    json.dump(data, file)"
   ],
   "metadata": {
    "collapsed": false,
    "ExecuteTime": {
     "end_time": "2023-12-15T15:03:33.836302966Z",
     "start_time": "2023-12-15T15:03:33.822841325Z"
    }
   },
   "id": "6262e4996b2b30c0"
  },
  {
   "cell_type": "code",
   "execution_count": 227,
   "outputs": [
    {
     "name": "stdout",
     "output_type": "stream",
     "text": [
      "{'vision_response': \"I'm sorry, but there is no image provided in the context. I can only provide information based on the text content from the documents. If you have any questions related to the provided documents or need information on a specific topic, feel free to ask!\"}\n"
     ]
    }
   ],
   "source": [
    "image_file_paths = []\n",
    "vision_response('bot_data.json', image_file_paths)"
   ],
   "metadata": {
    "collapsed": false,
    "ExecuteTime": {
     "end_time": "2023-12-15T15:03:39.613633634Z",
     "start_time": "2023-12-15T15:03:35.250538970Z"
    }
   },
   "id": "9705b0ba768d2d69"
  },
  {
   "cell_type": "markdown",
   "source": [
    "# Update Model"
   ],
   "metadata": {
    "collapsed": false
   },
   "id": "9c08c08a8698e7fc"
  },
  {
   "cell_type": "code",
   "execution_count": 246,
   "outputs": [],
   "source": [
    "json_file_path = 'update_bot_data.json'\n",
    "\n",
    "# List of file paths to be uploaded\n",
    "file_paths = [\n",
    "    '/home/hasnain/Projects/downloads/claude.txt',\n",
    "    '/home/hasnain/Downloads/Task 3.pdf'\n",
    "]\n",
    "\n",
    "# List of links\n",
    "links = ['https://python.langchain.com/docs/modules/memory/types/buffer_window']\n",
    "response = update_model(json_file_path, file_paths, links)\n"
   ],
   "metadata": {
    "collapsed": false,
    "ExecuteTime": {
     "end_time": "2023-12-15T15:13:22.436988981Z",
     "start_time": "2023-12-15T15:13:17.610336018Z"
    }
   },
   "id": "19d4f7e8bd072ae2"
  },
  {
   "cell_type": "code",
   "execution_count": 247,
   "outputs": [
    {
     "name": "stdout",
     "output_type": "stream",
     "text": [
      "{'new_chat_id': 'e165ce39-fbcf-402a-b285-9959730b5bb3', 'new_vision_chat_id': 'e4cd5630-2014-440a-ae61-e7142dfbb02a'}\n"
     ]
    }
   ],
   "source": [
    "print(response)"
   ],
   "metadata": {
    "collapsed": false,
    "ExecuteTime": {
     "end_time": "2023-12-15T15:13:25.073278685Z",
     "start_time": "2023-12-15T15:13:25.054614910Z"
    }
   },
   "id": "aa8ee076d3626446"
  },
  {
   "cell_type": "code",
   "execution_count": 248,
   "outputs": [],
   "source": [
    "chat_id = response.get('new_chat_id')\n",
    "vision_chat_id = response.get('new_vision_chat_id')"
   ],
   "metadata": {
    "collapsed": false,
    "ExecuteTime": {
     "end_time": "2023-12-15T15:13:26.808424274Z",
     "start_time": "2023-12-15T15:13:26.734571473Z"
    }
   },
   "id": "7bc2ad7e09bac8d9"
  },
  {
   "cell_type": "markdown",
   "source": [
    "# Again Chat "
   ],
   "metadata": {
    "collapsed": false
   },
   "id": "317ca98370571fa8"
  },
  {
   "cell_type": "code",
   "execution_count": 233,
   "outputs": [
    {
     "name": "stdout",
     "output_type": "stream",
     "text": [
      "{'response': 'Endevsols: AI-driven innovation transforming industry efficiency and productivity.'}\n"
     ]
    }
   ],
   "source": [
    "query = 'hi, my name company name is endevsols and we want a description about the endevsols in 10 words. Endevsols transform the inductry by using ai.'\n",
    "\n",
    "response = get_response( query, str(bot_id), str(chat_id))\n",
    "print(response)"
   ],
   "metadata": {
    "collapsed": false,
    "ExecuteTime": {
     "end_time": "2023-12-15T15:09:33.683906818Z",
     "start_time": "2023-12-15T15:09:29.725003192Z"
    }
   },
   "id": "4423b89b31c71e3c"
  },
  {
   "cell_type": "code",
   "execution_count": 234,
   "outputs": [
    {
     "name": "stdout",
     "output_type": "stream",
     "text": [
      "{'response': 'Endevsols specializes in AI-driven innovation to enhance industrial efficiency and productivity.'}\n"
     ]
    }
   ],
   "source": [
    "query = 'can you tell me something about my company .'\n",
    "\n",
    "response = get_response( query, str(bot_id), str(chat_id))\n",
    "print(response)"
   ],
   "metadata": {
    "collapsed": false,
    "ExecuteTime": {
     "end_time": "2023-12-15T15:10:11.611172275Z",
     "start_time": "2023-12-15T15:10:06.886064548Z"
    }
   },
   "id": "676377bc34e9493d"
  },
  {
   "cell_type": "markdown",
   "source": [
    "# Vision Chat"
   ],
   "metadata": {
    "collapsed": false
   },
   "id": "33da8cb853c0a13a"
  },
  {
   "cell_type": "code",
   "execution_count": 252,
   "outputs": [],
   "source": [
    "# Data to be saved\n",
    "data = {\n",
    "    'bot_id': bot_id,\n",
    "    'vision_chat_id': vision_chat_id,\n",
    "    'query': 'hi, how are you?'\n",
    "}\n",
    "\n",
    "# Saving to a JSON file\n",
    "with open('bot_data.json', 'w') as file:\n",
    "    json.dump(data, file)"
   ],
   "metadata": {
    "collapsed": false,
    "ExecuteTime": {
     "end_time": "2023-12-15T15:14:17.697907066Z",
     "start_time": "2023-12-15T15:14:17.675152438Z"
    }
   },
   "id": "d2a99d7bf4603081"
  },
  {
   "cell_type": "code",
   "execution_count": 253,
   "outputs": [
    {
     "name": "stdout",
     "output_type": "stream",
     "text": [
      "{'vision_response': \"Hello! I'm just a virtual assistant here to help you. How can I assist you today?\"}\n"
     ]
    }
   ],
   "source": [
    "image_file_paths = []\n",
    "vision_response('bot_data.json', image_file_paths)"
   ],
   "metadata": {
    "collapsed": false,
    "ExecuteTime": {
     "end_time": "2023-12-15T15:14:25.259064612Z",
     "start_time": "2023-12-15T15:14:20.935798002Z"
    }
   },
   "id": "52480699dcddb73a"
  },
  {
   "cell_type": "code",
   "execution_count": 254,
   "outputs": [],
   "source": [
    "# Data to be saved\n",
    "data = {\n",
    "    'bot_id': bot_id,\n",
    "    'vision_chat_id': vision_chat_id,\n",
    "    'query': 'can you can explain what is image?'\n",
    "}\n",
    "\n",
    "# Saving to a JSON file\n",
    "with open('bot_data.json', 'w') as file:\n",
    "    json.dump(data, file)"
   ],
   "metadata": {
    "collapsed": false,
    "ExecuteTime": {
     "end_time": "2023-12-15T15:15:02.904249439Z",
     "start_time": "2023-12-15T15:15:02.887792460Z"
    }
   },
   "id": "7cc8605cc3ebb5e0"
  },
  {
   "cell_type": "code",
   "execution_count": 255,
   "outputs": [
    {
     "name": "stdout",
     "output_type": "stream",
     "text": [
      "{'vision_response': 'An image is a visual representation of an object or scene, captured through a process like photography or digital illustration. It can be a picture, a photograph, or a digital construct that represents visual perception. Images are used to convey information, emotions, or ideas and can be displayed in various forms such as on paper, on screens, or projected onto surfaces.'}\n"
     ]
    }
   ],
   "source": [
    "image_file_paths = []\n",
    "vision_response('bot_data.json', image_file_paths)"
   ],
   "metadata": {
    "collapsed": false,
    "ExecuteTime": {
     "end_time": "2023-12-15T15:15:11.345918031Z",
     "start_time": "2023-12-15T15:15:06.053051267Z"
    }
   },
   "id": "6973334de89dcbf1"
  },
  {
   "cell_type": "markdown",
   "source": [
    "# Delet Model"
   ],
   "metadata": {
    "collapsed": false
   },
   "id": "f8f6572a2bcdbd37"
  },
  {
   "cell_type": "code",
   "execution_count": 256,
   "outputs": [
    {
     "data": {
      "text/plain": "{'status': 'deleted'}"
     },
     "execution_count": 256,
     "metadata": {},
     "output_type": "execute_result"
    }
   ],
   "source": [
    "remove_model(bot_id)"
   ],
   "metadata": {
    "collapsed": false,
    "ExecuteTime": {
     "end_time": "2023-12-15T15:17:08.481781515Z",
     "start_time": "2023-12-15T15:17:08.453405720Z"
    }
   },
   "id": "80d3f3c6858ed5e0"
  },
  {
   "cell_type": "markdown",
   "source": [
    "# After the deletion of model, the unique bot_id, chat_id and vision_chat_id will not be useful for text response and vision response."
   ],
   "metadata": {
    "collapsed": false
   },
   "id": "3702e3a816696f17"
  },
  {
   "cell_type": "code",
   "execution_count": null,
   "outputs": [],
   "source": [],
   "metadata": {
    "collapsed": false
   },
   "id": "6de5df63f2d2e04"
  }
 ],
 "metadata": {
  "kernelspec": {
   "display_name": "Python 3",
   "language": "python",
   "name": "python3"
  },
  "language_info": {
   "codemirror_mode": {
    "name": "ipython",
    "version": 2
   },
   "file_extension": ".py",
   "mimetype": "text/x-python",
   "name": "python",
   "nbconvert_exporter": "python",
   "pygments_lexer": "ipython2",
   "version": "2.7.6"
  }
 },
 "nbformat": 4,
 "nbformat_minor": 5
}
